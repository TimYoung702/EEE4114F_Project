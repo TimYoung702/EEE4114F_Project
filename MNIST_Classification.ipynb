{
 "cells": [
  {
   "cell_type": "markdown",
   "id": "459e0bc4",
   "metadata": {},
   "source": [
    "# Imports"
   ]
  },
  {
   "cell_type": "code",
   "execution_count": 88,
   "id": "e6f19aa9",
   "metadata": {},
   "outputs": [],
   "source": [
    "import io\n",
    "import tensorflow as tf\n",
    "import matplotlib.pyplot as plt\n",
    "import numpy as np\n",
    "from tensorflow.keras.models import Sequential\n",
    "from tensorflow.keras.layers import Dense, Dropout, Activation, Flatten, Conv2D, MaxPooling2D\n",
    "import cv2\n",
    "import seaborn as sn\n",
    "from PIL import Image\n",
    "import requests"
   ]
  },
  {
   "cell_type": "markdown",
   "id": "ca0bb76d",
   "metadata": {},
   "source": [
    "# Loading the dataset and dividing it into trainign and test batches"
   ]
  },
  {
   "cell_type": "code",
   "execution_count": 89,
   "id": "7051537e",
   "metadata": {},
   "outputs": [
    {
     "name": "stdout",
     "output_type": "stream",
     "text": [
      "The size of training dataset and its pixel shape:  (60000, 28, 28)\n"
     ]
    }
   ],
   "source": [
    "mnist = tf.keras.datasets.mnist\n",
    "(x_train, y_train),(x_test, y_test) = mnist.load_data()\n",
    "print(\"The size of training dataset and its pixel shape: \", x_train.shape)"
   ]
  },
  {
   "cell_type": "markdown",
   "id": "bb4cf94c",
   "metadata": {},
   "source": [
    "### Showing a sample Image"
   ]
  },
  {
   "cell_type": "code",
   "execution_count": 90,
   "id": "fc95c872",
   "metadata": {},
   "outputs": [
    {
     "name": "stdout",
     "output_type": "stream",
     "text": [
      "Change the sample variable to change the number to another in the set\n"
     ]
    },
    {
     "data": {
      "image/png": "[encoded data removed]",
      "text/plain": [
       "<Figure size 432x288 with 1 Axes>"
      ]
     },
     "metadata": {
      "needs_background": "light"
     },
     "output_type": "display_data"
    }
   ],
   "source": [
    "sample = 33;\n",
    "print(\"Change the sample variable to change the number to another in the set\")\n",
    "plt.imshow(x_train[sample])\n",
    "plt.show()"
   ]
  },
  {
   "cell_type": "markdown",
   "id": "0b984fb9",
   "metadata": {},
   "source": [
    "### Displaying the image as black and white"
   ]
  },
  {
   "cell_type": "code",
   "execution_count": 91,
   "id": "307296e1",
   "metadata": {},
   "outputs": [
    {
     "data": {
      "text/plain": [
       "<matplotlib.image.AxesImage at 0x18e38013388>"
      ]
     },
     "execution_count": 91,
     "metadata": {},
     "output_type": "execute_result"
    },
    {
     "data": {
      "image/png": "[encoded data removed]",
      "text/plain": [
       "<Figure size 432x288 with 1 Axes>"
      ]
     },
     "metadata": {
      "needs_background": "light"
     },
     "output_type": "display_data"
    }
   ],
   "source": [
    "plt.imshow(x_train[sample], cmap = plt.cm.binary)"
   ]
  },
  {
   "cell_type": "markdown",
   "id": "5722e9ed",
   "metadata": {},
   "source": [
    "# Normalization"
   ]
  },
  {
   "cell_type": "markdown",
   "id": "253e4015",
   "metadata": {},
   "source": [
    "The image is greyscaled, has values that range from 0 - 255, 0 being black and 255 being white. For Training we need to convert this to a 0 - 1 range. "
   ]
  },
  {
   "cell_type": "code",
   "execution_count": 92,
   "id": "30455fbc",
   "metadata": {},
   "outputs": [
    {
     "data": {
      "text/plain": [
       "<matplotlib.image.AxesImage at 0x18e37dd9748>"
      ]
     },
     "execution_count": 92,
     "metadata": {},
     "output_type": "execute_result"
    },
    {
     "data": {
      "image/png": "[encoded data removed]",
      "text/plain": [
       "<Figure size 432x288 with 1 Axes>"
      ]
     },
     "metadata": {
      "needs_background": "light"
     },
     "output_type": "display_data"
    }
   ],
   "source": [
    "x_train = tf.keras.utils.normalize(x_train, axis = 1)\n",
    "x_test = tf.keras.utils.normalize(x_test, axis = 1)\n",
    "plt.imshow(x_train[sample], cmap = plt.cm.binary)"
   ]
  },
  {
   "cell_type": "markdown",
   "id": "12e43ce7",
   "metadata": {},
   "source": [
    "Checking to see if the image has the proper label"
   ]
  },
  {
   "cell_type": "code",
   "execution_count": 93,
   "id": "974329fc",
   "metadata": {},
   "outputs": [
    {
     "name": "stdout",
     "output_type": "stream",
     "text": [
      "9\n"
     ]
    }
   ],
   "source": [
    "print(y_train[sample])"
   ]
  },
  {
   "cell_type": "markdown",
   "id": "3550c978",
   "metadata": {},
   "source": [
    "## Resizing the Image"
   ]
  },
  {
   "cell_type": "markdown",
   "id": "a697504d",
   "metadata": {},
   "source": [
    "For a Convolutional Neural Network (CNN), a 4D array must be the input. This means the input has to be in the form of [batch_size, height, width, depth]. Since we have greyscaled the image, the depth will always be 1, and setting the batch size to -1 will return the length of the dataset"
   ]
  },
  {
   "cell_type": "code",
   "execution_count": 94,
   "id": "0a5dc1e1",
   "metadata": {},
   "outputs": [
    {
     "name": "stdout",
     "output_type": "stream",
     "text": [
      "Training Samples dimension (60000, 28, 28, 1)\n",
      "Testing Samples dimension (10000, 28, 28, 1)\n"
     ]
    }
   ],
   "source": [
    "IMG_SIZE=28\n",
    "x_trainr = np.array(x_train).reshape(-1, IMG_SIZE, IMG_SIZE, 1)\n",
    "x_testr = np.array(x_test).reshape(-1, IMG_SIZE, IMG_SIZE, 1)\n",
    "print(\"Training Samples dimension\", x_trainr.shape)\n",
    "print(\"Testing Samples dimension\", x_testr.shape)"
   ]
  },
  {
   "cell_type": "markdown",
   "id": "2b6576c2",
   "metadata": {},
   "source": [
    "# Creating the Neural Network"
   ]
  },
  {
   "cell_type": "markdown",
   "id": "c70b59be",
   "metadata": {},
   "source": [
    "#### Creating the network"
   ]
  },
  {
   "cell_type": "code",
   "execution_count": 95,
   "id": "eb8a06d8",
   "metadata": {},
   "outputs": [],
   "source": [
    "model = Sequential()"
   ]
  },
  {
   "cell_type": "markdown",
   "id": "7fdcf67b",
   "metadata": {},
   "source": [
    "#### Creating the First Convolution Layer"
   ]
  },
  {
   "cell_type": "markdown",
   "id": "7509347a",
   "metadata": {},
   "source": [
    "We use 64 because that is the number of filters, (3,3) because that is the size of each kernel and for the first convolution layer we have to specify the input size"
   ]
  },
  {
   "cell_type": "code",
   "execution_count": 96,
   "id": "4c947562",
   "metadata": {},
   "outputs": [],
   "source": [
    "model.add(Conv2D(64, (3,3), input_shape = x_trainr.shape[1:]))\n",
    "model.add(Activation('relu'))\n",
    "model.add(MaxPooling2D(pool_size=(2,2)))"
   ]
  },
  {
   "cell_type": "markdown",
   "id": "25791c34",
   "metadata": {},
   "source": [
    "#### Creating the Second Convolution Layer"
   ]
  },
  {
   "cell_type": "code",
   "execution_count": 97,
   "id": "04f14e6c",
   "metadata": {},
   "outputs": [],
   "source": [
    "model.add(Conv2D(64, (3,3)))\n",
    "model.add(Activation('relu'))\n",
    "model.add(MaxPooling2D(pool_size=(2,2)))"
   ]
  },
  {
   "cell_type": "markdown",
   "id": "e65690c0",
   "metadata": {},
   "source": [
    "#### Creating the Third Convolution Layer"
   ]
  },
  {
   "cell_type": "code",
   "execution_count": 98,
   "id": "8fbda838",
   "metadata": {},
   "outputs": [],
   "source": [
    "model.add(Conv2D(64, (3,3)))\n",
    "model.add(Activation('relu'))\n",
    "model.add(MaxPooling2D(pool_size=(2,2)))"
   ]
  },
  {
   "cell_type": "markdown",
   "id": "8435a3b7",
   "metadata": {},
   "source": [
    "#### Fully connecting Layer 1"
   ]
  },
  {
   "cell_type": "code",
   "execution_count": 99,
   "id": "d4a7dd5b",
   "metadata": {},
   "outputs": [],
   "source": [
    "model.add(Flatten())\n",
    "model.add(Dense(64))\n",
    "model.add(Activation(\"relu\"))"
   ]
  },
  {
   "cell_type": "markdown",
   "id": "6512ca88",
   "metadata": {},
   "source": [
    "#### Fully connecting Layer 2"
   ]
  },
  {
   "cell_type": "code",
   "execution_count": 100,
   "id": "cce40547",
   "metadata": {},
   "outputs": [],
   "source": [
    "model.add(Dense(32))\n",
    "model.add(Activation(\"relu\"))"
   ]
  },
  {
   "cell_type": "markdown",
   "id": "59d4719a",
   "metadata": {},
   "source": [
    "#### Fully connecting Layer 3"
   ]
  },
  {
   "cell_type": "markdown",
   "id": "05b3b079",
   "metadata": {},
   "source": [
    "The output layer must be equal to the number of classes"
   ]
  },
  {
   "cell_type": "code",
   "execution_count": 101,
   "id": "23781975",
   "metadata": {},
   "outputs": [],
   "source": [
    "model.add(Dense(10))\n",
    "model.add(Activation(\"softmax\"))"
   ]
  },
  {
   "cell_type": "markdown",
   "id": "01cb0507",
   "metadata": {},
   "source": [
    "#### Summary of the model"
   ]
  },
  {
   "cell_type": "code",
   "execution_count": 102,
   "id": "ab3e2c73",
   "metadata": {},
   "outputs": [
    {
     "name": "stdout",
     "output_type": "stream",
     "text": [
      "Model: \"sequential_1\"\n",
      "_________________________________________________________________\n",
      " Layer (type)                Output Shape              Param #   \n",
      "=================================================================\n",
      " conv2d_3 (Conv2D)           (None, 26, 26, 64)        640       \n",
      "                                                                 \n",
      " activation_6 (Activation)   (None, 26, 26, 64)        0         \n",
      "                                                                 \n",
      " max_pooling2d_3 (MaxPooling  (None, 13, 13, 64)       0         \n",
      " 2D)                                                             \n",
      "                                                                 \n",
      " conv2d_4 (Conv2D)           (None, 11, 11, 64)        36928     \n",
      "                                                                 \n",
      " activation_7 (Activation)   (None, 11, 11, 64)        0         \n",
      "                                                                 \n",
      " max_pooling2d_4 (MaxPooling  (None, 5, 5, 64)         0         \n",
      " 2D)                                                             \n",
      "                                                                 \n",
      " conv2d_5 (Conv2D)           (None, 3, 3, 64)          36928     \n",
      "                                                                 \n",
      " activation_8 (Activation)   (None, 3, 3, 64)          0         \n",
      "                                                                 \n",
      " max_pooling2d_5 (MaxPooling  (None, 1, 1, 64)         0         \n",
      " 2D)                                                             \n",
      "                                                                 \n",
      " flatten_1 (Flatten)         (None, 64)                0         \n",
      "                                                                 \n",
      " dense_3 (Dense)             (None, 64)                4160      \n",
      "                                                                 \n",
      " activation_9 (Activation)   (None, 64)                0         \n",
      "                                                                 \n",
      " dense_4 (Dense)             (None, 32)                2080      \n",
      "                                                                 \n",
      " activation_10 (Activation)  (None, 32)                0         \n",
      "                                                                 \n",
      " dense_5 (Dense)             (None, 10)                330       \n",
      "                                                                 \n",
      " activation_11 (Activation)  (None, 10)                0         \n",
      "                                                                 \n",
      "=================================================================\n",
      "Total params: 81,066\n",
      "Trainable params: 81,066\n",
      "Non-trainable params: 0\n",
      "_________________________________________________________________\n"
     ]
    }
   ],
   "source": [
    "model.summary()"
   ]
  },
  {
   "cell_type": "markdown",
   "id": "17ed2ca1",
   "metadata": {},
   "source": [
    "#### Defining the optimizer, the loss function and the metrics"
   ]
  },
  {
   "cell_type": "code",
   "execution_count": 103,
   "id": "99e00305",
   "metadata": {},
   "outputs": [],
   "source": [
    "model.compile(loss=\"sparse_categorical_crossentropy\", optimizer=\"adam\", metrics=['accuracy'])"
   ]
  },
  {
   "cell_type": "markdown",
   "id": "82a6c1ef",
   "metadata": {},
   "source": [
    "# Training the Model"
   ]
  },
  {
   "cell_type": "markdown",
   "id": "87f80e1d",
   "metadata": {},
   "source": [
    "#### To prefent overfitting and underfitting, 5 epochs are used since the images are relatively simple"
   ]
  },
  {
   "cell_type": "code",
   "execution_count": 104,
   "id": "10fe2bf4",
   "metadata": {},
   "outputs": [
    {
     "name": "stdout",
     "output_type": "stream",
     "text": [
      "Epoch 1/5\n",
      "1313/1313 [==============================] - 26s 19ms/step - loss: 0.3236 - accuracy: 0.8980 - val_loss: 0.1211 - val_accuracy: 0.9603\n",
      "Epoch 2/5\n",
      "1313/1313 [==============================] - 26s 20ms/step - loss: 0.0968 - accuracy: 0.9706 - val_loss: 0.1195 - val_accuracy: 0.9624\n",
      "Epoch 3/5\n",
      "1313/1313 [==============================] - 24s 18ms/step - loss: 0.0711 - accuracy: 0.9779 - val_loss: 0.0684 - val_accuracy: 0.9787\n",
      "Epoch 4/5\n",
      "1313/1313 [==============================] - 25s 19ms/step - loss: 0.0532 - accuracy: 0.9831 - val_loss: 0.0708 - val_accuracy: 0.9789\n",
      "Epoch 5/5\n",
      "1313/1313 [==============================] - 25s 19ms/step - loss: 0.0436 - accuracy: 0.9861 - val_loss: 0.0749 - val_accuracy: 0.9784\n"
     ]
    },
    {
     "data": {
      "text/plain": [
       "<keras.callbacks.History at 0x18e764a9988>"
      ]
     },
     "execution_count": 104,
     "metadata": {},
     "output_type": "execute_result"
    }
   ],
   "source": [
    "model.fit(x_trainr, y_train, epochs=5, validation_split = 0.3)"
   ]
  },
  {
   "cell_type": "markdown",
   "id": "40960c36",
   "metadata": {},
   "source": [
    "## Evaluation of the model using test data"
   ]
  },
  {
   "cell_type": "code",
   "execution_count": 105,
   "id": "1c3e5838",
   "metadata": {},
   "outputs": [
    {
     "name": "stdout",
     "output_type": "stream",
     "text": [
      "313/313 [==============================] - 2s 5ms/step - loss: 0.0638 - accuracy: 0.9816\n",
      "Test Loss on 10,000 test samples 0.06382700800895691\n",
      "Test Accuracy on 10,000 test samples 0.9815999865531921\n"
     ]
    }
   ],
   "source": [
    "test_loss, test_acc = model.evaluate(x_testr, y_test)\n",
    "print(\"Test Loss on 10,000 test samples\", test_loss)\n",
    "print(\"Test Accuracy on 10,000 test samples\", test_acc)"
   ]
  },
  {
   "cell_type": "code",
   "execution_count": 106,
   "id": "209d0b02",
   "metadata": {},
   "outputs": [
    {
     "name": "stdout",
     "output_type": "stream",
     "text": [
      "313/313 [==============================] - 2s 5ms/step\n",
      "8\n"
     ]
    },
    {
     "data": {
      "image/png": "[encoded data removed]",
      "text/plain": [
       "<Figure size 432x288 with 1 Axes>"
      ]
     },
     "metadata": {
      "needs_background": "light"
     },
     "output_type": "display_data"
    }
   ],
   "source": [
    "test = 800\n",
    "predictions = model.predict([x_testr])\n",
    "plt.imshow(x_test[test])\n",
    "score = tf.nn.softmax(predictions[0])\n",
    "print(np.argmax(predictions[test]))"
   ]
  },
  {
   "cell_type": "markdown",
   "id": "981f4ccc",
   "metadata": {},
   "source": [
    "# Evaluation using a Confusion Matrix"
   ]
  },
  {
   "cell_type": "code",
   "execution_count": 107,
   "id": "786ae710",
   "metadata": {},
   "outputs": [
    {
     "data": {
      "text/plain": [
       "[7, 2, 1, 0, 4]"
      ]
     },
     "execution_count": 107,
     "metadata": {},
     "output_type": "execute_result"
    }
   ],
   "source": [
    "predicted_labels = [np.argmax(i) for i in predictions]\n",
    "predicted_labels[:5]"
   ]
  },
  {
   "cell_type": "code",
   "execution_count": 108,
   "id": "daebf5c4",
   "metadata": {},
   "outputs": [
    {
     "data": {
      "text/plain": [
       "Text(69.0, 0.5, 'Truth')"
      ]
     },
     "execution_count": 108,
     "metadata": {},
     "output_type": "execute_result"
    },
    {
     "data": {
      "image/png": "[encoded data removed]",
      "text/plain": [
       "<Figure size 720x504 with 2 Axes>"
      ]
     },
     "metadata": {
      "needs_background": "light"
     },
     "output_type": "display_data"
    }
   ],
   "source": [
    "cm = tf.math.confusion_matrix(labels=y_test, predictions=predicted_labels)\n",
    "cm;\n",
    "plt.figure(figsize = (10,7))\n",
    "sn.heatmap(cm, annot=True, fmt='d')\n",
    "plt.xlabel('Predicted')\n",
    "plt.ylabel('Truth')"
   ]
  },
  {
   "cell_type": "markdown",
   "id": "eaa19ea2",
   "metadata": {},
   "source": [
    "# Testing using User Created Data"
   ]
  },
  {
   "cell_type": "code",
   "execution_count": 127,
   "id": "36aebff3",
   "metadata": {},
   "outputs": [
    {
     "name": "stdout",
     "output_type": "stream",
     "text": [
      "1/1 [==============================] - 0s 17ms/step\n",
      "This image most likely is 1 with a 21.50 percent confidence.\n"
     ]
    },
    {
     "data": {
      "image/png": "[encoded data removed]",
      "text/plain": [
       "<Figure size 432x288 with 1 Axes>"
      ]
     },
     "metadata": {
      "needs_background": "light"
     },
     "output_type": "display_data"
    }
   ],
   "source": [
    "img = cv2.imread('Test_Data/seven_3.png')\n",
    "plt.imshow(img)\n",
    "gray = cv2.cvtColor(img, cv2.COLOR_BGR2GRAY) #converting the image to greyscale\n",
    "#plt.imshow(gray)\n",
    "resized = cv2.resize(gray, (28,28), interpolation = cv2.INTER_AREA) #resizing the image to 28x28\n",
    "#plt.imshow(resized)\n",
    "newimg = tf.keras.utils.normalize(resized, axis = 1) #Changing the 0-255 range to 0-1\n",
    "#plt.imshow(newimg)\n",
    "newimg = np.array(newimg).reshape(-1, IMG_SIZE, IMG_SIZE, 1) #Changing it into a 4D input\n",
    "predictions = model.predict(newimg)\n",
    "score = tf.nn.softmax(predictions[0])\n",
    "print(\"This image most likely is {} with a {:.2f} percent confidence.\"\n",
    "    .format(np.argmax(predictions[0]), 100 * np.max(score)))"
   ]
  },
  {
   "cell_type": "code",
   "execution_count": null,
   "id": "bed703a3",
   "metadata": {},
   "outputs": [],
   "source": []
  }
 ],
 "metadata": {
  "kernelspec": {
   "display_name": "tf",
   "language": "python",
   "name": "tf"
  },
  "language_info": {
   "codemirror_mode": {
    "name": "ipython",
    "version": 3
   },
   "file_extension": ".py",
   "mimetype": "text/x-python",
   "name": "python",
   "nbconvert_exporter": "python",
   "pygments_lexer": "ipython3",
   "version": "3.7.13"
  }
 },
 "nbformat": 4,
 "nbformat_minor": 5
}
